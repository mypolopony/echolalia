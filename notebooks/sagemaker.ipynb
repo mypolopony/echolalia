{
 "cells": [
  {
   "cell_type": "code",
   "execution_count": 55,
   "metadata": {},
   "outputs": [
    {
     "name": "stdout",
     "output_type": "stream",
     "text": [
      "The autoreload extension is already loaded. To reload it, use:\n",
      "  %reload_ext autoreload\n"
     ]
    }
   ],
   "source": [
    "%load_ext autoreload\n",
    "%autoreload 2"
   ]
  },
  {
   "cell_type": "code",
   "execution_count": 77,
   "metadata": {},
   "outputs": [
    {
     "name": "stderr",
     "output_type": "stream",
     "text": [
      "INFO:botocore.credentials:Found credentials in shared credentials file: ~/.aws/credentials\n",
      "INFO:sagemaker:Creating training-job with name: echolalia-2024-10-17-20-32-23-583\n"
     ]
    },
    {
     "name": "stdout",
     "output_type": "stream",
     "text": [
      "2024-10-17 20:32:25 Starting - Starting the training job...\n",
      "2024-10-17 20:32:38 Starting - Preparing the instances for training...\n",
      "2024-10-17 20:33:16 Downloading - Downloading the training image............."
     ]
    }
   ],
   "source": [
    "import os\n",
    "\n",
    "import boto3\n",
    "import sagemaker\n",
    "from sagemaker.estimator import Estimator\n",
    "from sagemaker.huggingface import HuggingFace\n",
    "from sagemaker.pytorch import PyTorch\n",
    "\n",
    "from echolalia.constants import SAGEMAKER_ARN, S3_BUCKET_NAME, IMAGE_URL = \n",
    "\n",
    "os.environ[\"TRANSFORMERS_LOG_LEVEL\"] = \"debug\"  # Turn on logging for the transformers library\n",
    "\n",
    "# Create a session\n",
    "boto_session = boto3.Session()\n",
    "sagemaker_session = sagemaker.Session(boto_session=boto_session)\n",
    "\n",
    "# Create the Hugging Face Estimator\n",
    "huggingface_estimator = Estimator(\n",
    "    image_uri=IMAGE_URL,                    # Image\n",
    "    instance_type='ml.g4dn.xlarge',         # GPU instance\n",
    "    instance_count=1,\n",
    "    role=SAGEMAKER_ARN,                     # Pass the role\n",
    "    sagemaker_session=sagemaker_session,    # Pass the session with the specified region\n",
    "    hyperparameters={\n",
    "        'manifest': \"training/training_manifest.yaml\",\n",
    "    },\n",
    "    debugger_hook_config = True,            # Enable debugger hook for more detailed logging,\n",
    "    output_path = f\"s3://{S3_BUCKET_NAME}/results/\"\n",
    ")\n",
    "\n",
    "# Do some work!\n",
    "huggingface_estimator.fit()"
   ]
  },
  {
   "cell_type": "code",
   "execution_count": null,
   "metadata": {},
   "outputs": [],
   "source": []
  },
  {
   "cell_type": "code",
   "execution_count": null,
   "metadata": {},
   "outputs": [],
   "source": []
  }
 ],
 "metadata": {
  "kernelspec": {
   "display_name": ".env",
   "language": "python",
   "name": "python3"
  },
  "language_info": {
   "codemirror_mode": {
    "name": "ipython",
    "version": 3
   },
   "file_extension": ".py",
   "mimetype": "text/x-python",
   "name": "python",
   "nbconvert_exporter": "python",
   "pygments_lexer": "ipython3",
   "version": "3.11.9"
  }
 },
 "nbformat": 4,
 "nbformat_minor": 2
}
